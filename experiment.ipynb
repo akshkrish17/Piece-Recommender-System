{
 "cells": [
  {
   "cell_type": "code",
   "execution_count": 25,
   "id": "7d7ce48c",
   "metadata": {},
   "outputs": [
    {
     "name": "stdout",
     "output_type": "stream",
     "text": [
      "19\n",
      "21\n",
      "32\n",
      "39\n",
      "55\n",
      "101\n",
      "sortedList\n",
      "[19, 21, 32, 39, 55, 101]\n",
      "mylist\n",
      "[]\n"
     ]
    }
   ],
   "source": [
    "mylist = [101,39,55,21,19,32]\n",
    "counter = 1 \n",
    "sortedList=[]\n",
    "\n",
    "while len(mylist) > 0:\n",
    "    counter=1\n",
    "    smallestN=mylist[counter-1]\n",
    "    while counter < len(mylist):\n",
    "        currentN=mylist[counter]\n",
    "        if smallestN > mylist[counter]:\n",
    "            smallestN = mylist[counter]\n",
    "        counter += 1\n",
    "    print(smallestN)\n",
    "    sortedList.append(smallestN)\n",
    "    mylist.remove(smallestN)\n",
    "print(\"sortedList\")\n",
    "print(sortedList)\n",
    "print(\"mylist\")\n",
    "print(mylist)\n",
    "\n",
    "    "
   ]
  },
  {
   "cell_type": "code",
   "execution_count": null,
   "id": "5dd7f284",
   "metadata": {},
   "outputs": [],
   "source": []
  },
  {
   "cell_type": "code",
   "execution_count": null,
   "id": "90385a45",
   "metadata": {},
   "outputs": [],
   "source": []
  }
 ],
 "metadata": {
  "kernelspec": {
   "display_name": "Python 3 (ipykernel)",
   "language": "python",
   "name": "python3"
  },
  "language_info": {
   "codemirror_mode": {
    "name": "ipython",
    "version": 3
   },
   "file_extension": ".py",
   "mimetype": "text/x-python",
   "name": "python",
   "nbconvert_exporter": "python",
   "pygments_lexer": "ipython3",
   "version": "3.9.13"
  }
 },
 "nbformat": 4,
 "nbformat_minor": 5
}
