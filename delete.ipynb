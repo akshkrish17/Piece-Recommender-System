{
 "cells": [
  {
   "cell_type": "code",
   "execution_count": null,
   "id": "357afb5c",
   "metadata": {
    "scrolled": true
   },
   "outputs": [],
   "source": [
    "import csv\n",
    "import re\n",
    "possible_rhythms = []\n",
    "with open('data.tsv', newline='') as csvfile:\n",
    "    datareader = csv.reader(csvfile, delimiter='\\t', quotechar='|')\n",
    "    rowNumber=0\n",
    "    for row in datareader:\n",
    "        rowNumber+=1\n",
    "        \n",
    "        if(rowNumber==1):\n",
    "            print(\"passing rownumber\")\n",
    "            print(rowNumber)\n",
    "            pass\n",
    "        \n",
    "        else:\n",
    "            print(\"else\")\n",
    "            #print(rowNumber)\n",
    "            #print(row)\n",
    "            if \",\" in row[1]:\n",
    "                #print(\", in \")\n",
    "                #print(rowNumber)\n",
    "                split_string = re.split(r'&|,',row[1])\n",
    "                #print(split_string)\n",
    "        \n",
    "                for small_string in split_string:\n",
    "                    possible_rhythms += [small_string.strip()]\n",
    "            elif \"&\" in row[1]:\n",
    "                #print(\"& in \")\n",
    "                #print(rowNumber)\n",
    "                split_string = re.split(r'&|,',row[1])\n",
    "                #print(split_string)\n",
    "        \n",
    "                for small_string in split_string:\n",
    "                    possible_rhythms += [small_string.strip()]\n",
    "            else: \n",
    "                possible_rhythms += [row[1]]\n",
    "             \n",
    "        #if(rowNumber==2):\n",
    "        #    print(rowNumber)\n",
    "        #    print(row)\n",
    "            \n",
    "#print(possible_rhythms)\n",
    "possible_rhythms_set = set(possible_rhythms)\n",
    "print(\"\\npossible_rhythms_set\\n\")\n",
    "print(possible_rhythms_set)\n",
    "#step one: count the rows \n",
    "#step 2: identify row one and skip it \n",
    "#step 3: make it say row 2"
   ]
  },
  {
   "cell_type": "code",
   "execution_count": null,
   "id": "972085f5",
   "metadata": {},
   "outputs": [],
   "source": []
  },
  {
   "cell_type": "code",
   "execution_count": null,
   "id": "abb3757a",
   "metadata": {},
   "outputs": [],
   "source": []
  },
  {
   "cell_type": "code",
   "execution_count": null,
   "id": "3961ddc9",
   "metadata": {},
   "outputs": [],
   "source": []
  },
  {
   "cell_type": "code",
   "execution_count": null,
   "id": "9b541e50",
   "metadata": {},
   "outputs": [],
   "source": []
  }
 ],
 "metadata": {
  "kernelspec": {
   "display_name": "Python 3 (ipykernel)",
   "language": "python",
   "name": "python3"
  },
  "language_info": {
   "codemirror_mode": {
    "name": "ipython",
    "version": 3
   },
   "file_extension": ".py",
   "mimetype": "text/x-python",
   "name": "python",
   "nbconvert_exporter": "python",
   "pygments_lexer": "ipython3",
   "version": "3.9.13"
  }
 },
 "nbformat": 4,
 "nbformat_minor": 5
}
